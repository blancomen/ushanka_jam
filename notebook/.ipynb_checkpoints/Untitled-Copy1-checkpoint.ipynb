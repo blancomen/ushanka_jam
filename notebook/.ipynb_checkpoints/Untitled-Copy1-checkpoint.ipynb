{
 "cells": [
  {
   "cell_type": "code",
   "execution_count": 3,
   "metadata": {
    "collapsed": true
   },
   "outputs": [],
   "source": [
    "import numpy as np\n",
    "import pandas as pd\n",
    "import matplotlib\n",
    "from matplotlib import pyplot as plt\n",
    "import matplotlib.patches as mpatches\n",
    "matplotlib.style.use('ggplot')\n",
    "%matplotlib inline\n",
    "import json\n",
    "import pylab"
   ]
  },
  {
   "cell_type": "code",
   "execution_count": 4,
   "metadata": {
    "collapsed": false,
    "scrolled": false
   },
   "outputs": [],
   "source": [
    "from sklearn.decomposition import RandomizedPCA\n",
    "from sklearn.decomposition import PCA\n",
    "import csv \n",
    "\n",
    "size = (18, 18)\n",
    "dataJson = json.load(open('/Users/yakud/.godot/app_userdata/ushanka_jam/1.json'))\n",
    "data = []\n",
    "\n",
    "# Generate file\n",
    "with open('/Users/yakud/.godot/app_userdata/ushanka_jam/data.csv', 'wb') as csvfile:\n",
    "    spamwriter = csv.writer(csvfile, delimiter=';',\n",
    "                            quotechar='|', quoting=csv.QUOTE_MINIMAL)\n",
    "    \n",
    "    header = []\n",
    "    for i in range(size[0] * size[1]):\n",
    "        header.append(\"e\" + str(i))\n",
    "    \n",
    "    header.append(\"target\")\n",
    "    spamwriter.writerow(header)\n",
    "    \n",
    "    for i, o in enumerate(dataJson):\n",
    "        for event in o[\"events\"]:\n",
    "            eventSlice = []\n",
    "            for row in event:\n",
    "                for c in row:\n",
    "                    eventSlice.append(c)\n",
    "            eventSlice.append(i)\n",
    "            spamwriter.writerow(eventSlice)\n",
    "   \n",
    "    "
   ]
  },
  {
   "cell_type": "code",
   "execution_count": 5,
   "metadata": {
    "collapsed": false
   },
   "outputs": [
    {
     "name": "stderr",
     "output_type": "stream",
     "text": [
      "//anaconda/lib/python2.7/site-packages/sklearn/cross_validation.py:41: DeprecationWarning: This module was deprecated in version 0.18 in favor of the model_selection module into which all the refactored classes and functions are moved. Also note that the interface of the new CV iterators are different from that of this module. This module will be removed in 0.20.\n",
      "  \"This module will be removed in 0.20.\", DeprecationWarning)\n"
     ]
    }
   ],
   "source": [
    "from sklearn.decomposition import PCA\n",
    "from sklearn.cross_validation import cross_val_score as cv_score\n",
    "\n",
    "data = pd.read_csv('/Users/yakud/.godot/app_userdata/ushanka_jam/data.csv',delimiter=\";\")\n",
    "target = data[\"target\"]\n",
    "del data[\"target\"]"
   ]
  },
  {
   "cell_type": "code",
   "execution_count": 29,
   "metadata": {
    "collapsed": true
   },
   "outputs": [],
   "source": [
    "model = PCA(n_components=32)\n",
    "model.fit(data)\n",
    "transformed = model.transform(data)"
   ]
  },
  {
   "cell_type": "code",
   "execution_count": null,
   "metadata": {
    "collapsed": false
   },
   "outputs": [],
   "source": []
  },
  {
   "cell_type": "code",
   "execution_count": 7,
   "metadata": {
    "collapsed": false
   },
   "outputs": [],
   "source": [
    "from sklearn.ensemble import RandomForestClassifier\n",
    "from sklearn.neighbors import KNeighborsClassifier\n",
    "from sklearn.svm import SVC\n",
    "from sklearn.gaussian_process import GaussianProcessClassifier\n",
    "from sklearn.cross_validation import train_test_split\n",
    "import sklearn.metrics as metrics\n",
    "import sklearn.cross_validation as crval"
   ]
  },
  {
   "cell_type": "code",
   "execution_count": 21,
   "metadata": {
    "collapsed": false
   },
   "outputs": [
    {
     "name": "stdout",
     "output_type": "stream",
     "text": [
      "0.912738551617\n"
     ]
    }
   ],
   "source": [
    "forest = RandomForestClassifier(n_estimators = 50, n_jobs = 4) \n",
    "scores = crval.cross_val_score(forest, transformed, y=target, cv=8)\n",
    "print scores.mean()"
   ]
  },
  {
   "cell_type": "code",
   "execution_count": 22,
   "metadata": {
    "collapsed": false,
    "scrolled": true
   },
   "outputs": [
    {
     "name": "stdout",
     "output_type": "stream",
     "text": [
      "0.832950445911\n"
     ]
    }
   ],
   "source": [
    "model = KNeighborsClassifier() \n",
    "scores = crval.cross_val_score(model, transformed, y=target, cv=6)\n",
    "print scores.mean()"
   ]
  },
  {
   "cell_type": "code",
   "execution_count": 32,
   "metadata": {
    "collapsed": false
   },
   "outputs": [
    {
     "name": "stdout",
     "output_type": "stream",
     "text": [
      "0.908794385957\n",
      "0.955403263403\n"
     ]
    }
   ],
   "source": [
    "model = SVC()\n",
    "scores = crval.cross_val_score(model, data, y=target, cv=6)\n",
    "print scores.mean()\n",
    "\n",
    "model = SVC()\n",
    "scores = crval.cross_val_score(model, transformed, y=target, cv=10)\n",
    "print scores.mean()"
   ]
  },
  {
   "cell_type": "code",
   "execution_count": 26,
   "metadata": {
    "collapsed": false
   },
   "outputs": [
    {
     "name": "stdout",
     "output_type": "stream",
     "text": [
      "0.894472597422\n"
     ]
    }
   ],
   "source": [
    "from sklearn.neural_network import MLPClassifier\n",
    "model = MLPClassifier()\n",
    "scores = crval.cross_val_score(model, transformed, y=target, cv=6)\n",
    "print scores.mean()"
   ]
  },
  {
   "cell_type": "code",
   "execution_count": 27,
   "metadata": {
    "collapsed": false
   },
   "outputs": [
    {
     "name": "stdout",
     "output_type": "stream",
     "text": [
      "0.837902469844\n"
     ]
    }
   ],
   "source": [
    "model = GaussianProcessClassifier()\n",
    "scores = crval.cross_val_score(model, data, y=target, cv=6)\n",
    "print scores.mean()"
   ]
  },
  {
   "cell_type": "code",
   "execution_count": 151,
   "metadata": {
    "collapsed": false
   },
   "outputs": [
    {
     "name": "stdout",
     "output_type": "stream",
     "text": [
      "0.887016348731\n"
     ]
    }
   ],
   "source": [
    "n_trees = [1] + range(5,70,5)\n",
    "\n",
    "scoring = []\n",
    "for n_tree in n_trees:\n",
    "    estimator = RandomForestClassifier(n_estimators = n_tree)\n",
    "    score = crval.cross_val_score(estimator, data, y=target, cv=10)    \n",
    "    scoring.append(score)\n",
    "    \n",
    "scoring = np.asmatrix(scoring)\n",
    "print scoring.mean()"
   ]
  },
  {
   "cell_type": "code",
   "execution_count": 138,
   "metadata": {
    "collapsed": false
   },
   "outputs": [
    {
     "data": {
      "text/plain": [
       "<matplotlib.legend.Legend at 0x11a2c4e90>"
      ]
     },
     "execution_count": 138,
     "metadata": {},
     "output_type": "execute_result"
    },
    {
     "data": {
      "image/png": "[encoded data removed]",
      "text/plain": [
       "<matplotlib.figure.Figure at 0x11a2c4c90>"
      ]
     },
     "metadata": {},
     "output_type": "display_data"
    }
   ],
   "source": [
    "pylab.plot(n_trees, scoring.mean(axis = 1), marker=\".\", label=\"RandomForest\")\n",
    "pylab.grid(True)\n",
    "pylab.xlabel(\"n_trees\")\n",
    "pylab.ylabel(\"score\")\n",
    "pylab.title(\"Accuracy score\")\n",
    "pylab.legend(loc=\"lower right\")"
   ]
  },
  {
   "cell_type": "code",
   "execution_count": 139,
   "metadata": {
    "collapsed": false
   },
   "outputs": [
    {
     "name": "stdout",
     "output_type": "stream",
     "text": [
      "0.880351172637\n"
     ]
    }
   ],
   "source": [
    "print scoring.mean()"
   ]
  },
  {
   "cell_type": "code",
   "execution_count": null,
   "metadata": {
    "collapsed": true
   },
   "outputs": [],
   "source": []
  }
 ],
 "metadata": {
  "anaconda-cloud": {},
  "kernelspec": {
   "display_name": "Python [conda root]",
   "language": "python",
   "name": "conda-root-py"
  },
  "language_info": {
   "codemirror_mode": {
    "name": "ipython",
    "version": 2
   },
   "file_extension": ".py",
   "mimetype": "text/x-python",
   "name": "python",
   "nbconvert_exporter": "python",
   "pygments_lexer": "ipython2",
   "version": "2.7.12"
  }
 },
 "nbformat": 4,
 "nbformat_minor": 1
}
